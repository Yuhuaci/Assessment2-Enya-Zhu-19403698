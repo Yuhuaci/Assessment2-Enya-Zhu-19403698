{
  "nbformat": 4,
  "nbformat_minor": 0,
  "metadata": {
    "colab": {
      "provenance": []
    },
    "kernelspec": {
      "name": "python3",
      "display_name": "Python 3"
    },
    "language_info": {
      "name": "python"
    }
  },
  "cells": [
    {
      "cell_type": "markdown",
      "source": [
        "## **Task: Weekly Sales Reporting**"
      ],
      "metadata": {
        "id": "CfogzzU3pItY"
      }
    },
    {
      "cell_type": "markdown",
      "source": [
        "# **1.0 Introduction**"
      ],
      "metadata": {
        "id": "Els9QPdapiKH"
      }
    },
    {
      "cell_type": "markdown",
      "source": [
        "The company wanted to implement a program to collect and analyze weekly sales activity. The program is required to calculate the average sales per day."
      ],
      "metadata": {
        "id": "xm1smTZhpuRb"
      }
    },
    {
      "cell_type": "markdown",
      "source": [
        "## **2.0 Analysis**\n",
        "\n",
        "**State the problem clearly：**\n",
        "\n",
        "We need to set up a programming for the company to collect and analyze weekly sales activity.\n",
        "\n",
        "**Describe the input and output：**\n",
        "\n",
        "Inputs --> the csv file ( included employee name, date(in week) & the sales of each day(Monday to Friday) )\n",
        "\n",
        "Processing:\n",
        "\n",
        "Output--> daily total sales & daily average sales\n",
        "\n",
        "**Work a simple solution/example by hand:**\n",
        "\n",
        "Let's input the employee's name and their sales in Monday:\n",
        "\n",
        "Day  John Alice Daisy Lily Ronny\n",
        "\n",
        "Monday 150  100  80  200  120\n",
        "\n",
        "So, \n",
        "\n",
        "daily total sales = 150+100+80+200+120 = 650\n",
        "\n",
        "Daily average sales=daily total sales/the number of employee work today\n",
        "\n",
        "daily average sales = 650/5 = 130\n",
        "\n",
        "**Develop an algorithm and/or pseudocode:**\n",
        "\n",
        "get the input file\n",
        "\n",
        "calculate daily total sales\n",
        "\n",
        "calcutate daily average sales"
      ],
      "metadata": {
        "id": "fsf-wbTmrt5r"
      }
    },
    {
      "cell_type": "markdown",
      "source": [
        "**Convert Pseudocode into Python code**"
      ],
      "metadata": {
        "id": "cDxiwo3o6kyl"
      }
    },
    {
      "cell_type": "markdown",
      "source": [
        "**calculate total sales:**\n",
        "\n",
        "**Daily total sales=Put each employee's daily sales together**. In this task, based on above's data:\n",
        "\n",
        "Mon_total_sales=150+100+80+200+120=650\n",
        "\n",
        "Tue_total_sales=200+250+130+300+155=1035\n",
        "\n",
        "Wed_total_sales=220+120+108+220+350=1018\n",
        "\n",
        "Thur_total_sales=200+180+250+280+200=1110\n",
        "\n",
        "Fri_total_sales=125+150+200+185+150=810\n",
        "\n",
        "Or we can use the math way to calculate:\n",
        "\n",
        "\n",
        "\n",
        "```\n",
        "def add(a,b,c,d,e):\n",
        "  return a+b+c+d+e\n",
        "```\n",
        "\n",
        "\n",
        "\n",
        "Then,calculate daily average sales.\n",
        "\n",
        "**Daily average sales=daily total sales/the number of employee work**"
      ],
      "metadata": {
        "id": "pQFxkyxuiJUG"
      }
    },
    {
      "cell_type": "code",
      "source": [
        "#calculate daily average sales\n",
        "#Based on above's data\n",
        "Mon_total_sales=650\n",
        "Tue_total_sales=1035\n",
        "Wed_total_sales=1018\n",
        "Thur_total_sales=1110\n",
        "Fri_total_sales=810\n",
        "\n",
        "Mon_average_sales = Mon_total_sales/5\n",
        "Tue_average_sales = Tue_total_sales/5\n",
        "Wed_average_sales = Wed_total_sales/5\n",
        "Thur_average_sales = Thur_total_sales/5\n",
        "Fri_average_sales = Fri_total_sales/5\n",
        "print(\"Monday average sales is:\",Mon_average_sales)\n",
        "print(\"Tuesday average sales is:\",Tue_average_sales)\n",
        "print(\"Wednesday average sales is:\",Wed_average_sales)\n",
        "print(\"Thursday average sales is:\",Thur_average_sales)\n",
        "print(\"Friday average sales is:\",Fri_average_sales)"
      ],
      "metadata": {
        "colab": {
          "base_uri": "https://localhost:8080/"
        },
        "id": "HXlA8_Y1hGPt",
        "outputId": "1724f95d-3b64-42ec-bfe2-0474c79a4e62"
      },
      "execution_count": 65,
      "outputs": [
        {
          "output_type": "stream",
          "name": "stdout",
          "text": [
            "Monday average sales is: 130.0\n",
            "Tuesday average sales is: 207.0\n",
            "Wednesday average sales is: 203.6\n",
            "Thursday average sales is: 222.0\n",
            "Friday average sales is: 162.0\n"
          ]
        }
      ]
    },
    {
      "cell_type": "markdown",
      "source": [
        "**Math way to calculate:**"
      ],
      "metadata": {
        "id": "GaP2A0B9OTnt"
      }
    },
    {
      "cell_type": "code",
      "source": [
        "def add(a,b,c,d,e):\n",
        "  return a + b + c + d + e"
      ],
      "metadata": {
        "id": "42ESvx1WOTDu"
      },
      "execution_count": 68,
      "outputs": []
    },
    {
      "cell_type": "code",
      "source": [
        "Mon_total_sales=add(150,100,80,200,120)\n",
        "Tue_total_sales=add(200,250,130,300,155)\n",
        "Wed_total_sales=add(220,120,108,220,350)\n",
        "Thur_total_sales=add(200,180,250,280,200)\n",
        "Fri_total_sales=add(125,150,200,185,150)\n",
        "\n",
        "Mon_average_sales = Mon_total_sales/5\n",
        "Tue_average_sales = Tue_total_sales/5\n",
        "Wed_average_sales = Wed_total_sales/5\n",
        "Thur_average_sales = Thur_total_sales/5\n",
        "Fri_average_sales = Fri_total_sales/5\n",
        "\n",
        "print(\"Monday average sales is:\",Mon_average_sales)\n",
        "print(\"Tuesday average sales is:\",Tue_average_sales)\n",
        "print(\"Wednesday average sales is:\",Wed_average_sales)\n",
        "print(\"Thursday average sales is:\",Thur_average_sales)\n",
        "print(\"Friday average sales is:\",Fri_average_sales)"
      ],
      "metadata": {
        "colab": {
          "base_uri": "https://localhost:8080/"
        },
        "id": "2YfM1wwRO-Xg",
        "outputId": "9e43591c-00b3-4f5b-a22b-feb07e103f8a"
      },
      "execution_count": 67,
      "outputs": [
        {
          "output_type": "stream",
          "name": "stdout",
          "text": [
            "Monday average sales is: 130.0\n",
            "Tuesday average sales is: 207.0\n",
            "Wednesday average sales is: 203.6\n",
            "Thursday average sales is: 222.0\n",
            "Friday average sales is: 162.0\n"
          ]
        }
      ]
    },
    {
      "cell_type": "code",
      "source": [
        "#Writing in csv file\n",
        "#import csv module\n",
        "import csv\n",
        "#open file and write records\n",
        "with open(\"weeklysales.csv\",'w') as sales:\n",
        "  writer = csv.writer(sales)\n",
        "  writer.writerow(['Day','John','Alice','Daisy','Lily','Ronny'])\n",
        "  writer.writerow(['Mon',150,100,80,200,120])\n",
        "  writer.writerow(['Tue',200,250,130,300,155])\n",
        "  writer.writerow(['Wed',220,120,108,220,350])\n",
        "  writer.writerow(['Thur',200,180,250,280,200])\n",
        "  writer.writerow(['Fri',125,150,200,185,150])"
      ],
      "metadata": {
        "id": "h_Bv5mAAv7Kn"
      },
      "execution_count": 70,
      "outputs": []
    },
    {
      "cell_type": "code",
      "source": [
        "#Reading in csv file\n",
        "#open file and read records\n",
        "with open(\"weeklysales.csv\",'r') as sales:\n",
        "  reader = csv.reader(sales)\n",
        "  for record in reader:\n",
        "    Day, John, Alice, Daisy, Lily, Ronny = record\n",
        "    print(f'{Day:10}{John:10}{Alice:10}{Daisy:10}{Lily:10}{Ronny:10}')"
      ],
      "metadata": {
        "colab": {
          "base_uri": "https://localhost:8080/"
        },
        "id": "wlkgv3EpJMfC",
        "outputId": "02bad1e2-a814-465a-d200-fb451c755dd1"
      },
      "execution_count": 71,
      "outputs": [
        {
          "output_type": "stream",
          "name": "stdout",
          "text": [
            "Day       John      Alice     Daisy     Lily      Ronny     \n",
            "Mon       150       100       80        200       120       \n",
            "Tue       200       250       130       300       155       \n",
            "Wed       220       120       108       220       350       \n",
            "Thur      200       180       250       280       200       \n",
            "Fri       125       150       200       185       150       \n"
          ]
        }
      ]
    },
    {
      "cell_type": "code",
      "source": [
        "#I try to to get the number directly in CSV, but I can't get it, so I just done like:\n",
        "\n",
        "from matplotlib import pyplot as plt\n",
        "#Define x and y axes\n",
        "x = ['Mon','Tue','Wed','Thur','Fri']\n",
        "y = [150,200,220,200,125]\n",
        "y1 = [100,250,120,180,150]\n",
        "y2 = [80,130,108,250,200]\n",
        "y3 = [200,300,220,280,185]\n",
        "y4 = [120,155,350,200,150]\n",
        "\n",
        "f = plt.figure()\n",
        "f.set_figwidth(10)\n",
        "f.set_figheight(6)\n",
        "plt.plot(x,y,'b',label='John') # I try to give each line a label ,but it's fail.plt.plot(x,y1,'g',label='Alice')\n",
        "plt.plot(x,y1,'g',label='Alice')\n",
        "plt.plot(x,y2,'r',label='Dasiy')\n",
        "plt.plot(x,y3,'c',label='Lily')\n",
        "plt.plot(x,y4,'y',label='Ronny')\n",
        "\n",
        "plt.title('Weekly Sales')\n",
        "plt.show()"
      ],
      "metadata": {
        "colab": {
          "base_uri": "https://localhost:8080/",
          "height": 390
        },
        "id": "v-t58u6cNsdY",
        "outputId": "d9af379f-06c2-4497-a87e-4a726f3a6d40"
      },
      "execution_count": 72,
      "outputs": [
        {
          "output_type": "display_data",
          "data": {
            "text/plain": [
              "<Figure size 720x432 with 1 Axes>"
            ],
            "image/png": "[encoded data removed]"
          },
          "metadata": {
            "needs_background": "light"
          }
        }
      ]
    },
    {
      "cell_type": "code",
      "source": [
        "#Writing in csv file\n",
        "#import csv module\n",
        "import csv\n",
        "#open file and write records\n",
        "with open(\"weeklysales.csv\",'w') as sales:\n",
        "  writer = csv.writer(sales)\n",
        "  writer.writerow(['Day','John','Alice','Daisy','Lily','Ronny','Total','DailyAverageSale'])\n",
        "  writer.writerow(['Mon',150,100,80,200,120,650,130])\n",
        "  writer.writerow(['Tue',200,250,130,300,155,1035,207])\n",
        "  writer.writerow(['Wed',220,120,108,220,350,1018,203.6])\n",
        "  writer.writerow(['Thur',200,180,250,280,200,1110,222])\n",
        "  writer.writerow(['Fri',125,150,200,185,150,810,162])"
      ],
      "metadata": {
        "id": "09M8kNil_Vu8"
      },
      "execution_count": 73,
      "outputs": []
    },
    {
      "cell_type": "code",
      "source": [
        "#Reading in csv file\n",
        "#open file and read records\n",
        "with open(\"weeklysales.csv\",'r') as sales:\n",
        "  reader = csv.reader(sales)\n",
        "  for record in reader:\n",
        "    Day, John, Alice, Daisy, Lily, Ronny, Total, DailyAverageSale = record\n",
        "    print(f'{Day:10}{John:10}{Alice:10}{Daisy:10}{Lily:10}{Ronny:10}{Total:10}{DailyAverageSale:10}')"
      ],
      "metadata": {
        "colab": {
          "base_uri": "https://localhost:8080/"
        },
        "id": "4h9Yh1Y-_21C",
        "outputId": "ab1604cd-e351-42b1-9de5-17047b6cb017"
      },
      "execution_count": 74,
      "outputs": [
        {
          "output_type": "stream",
          "name": "stdout",
          "text": [
            "Day       John      Alice     Daisy     Lily      Ronny     Total     DailyAverageSale\n",
            "Mon       150       100       80        200       120       650       130       \n",
            "Tue       200       250       130       300       155       1035      207       \n",
            "Wed       220       120       108       220       350       1018      203.6     \n",
            "Thur      200       180       250       280       200       1110      222       \n",
            "Fri       125       150       200       185       150       810       162       \n"
          ]
        }
      ]
    },
    {
      "cell_type": "code",
      "source": [
        "#import pandas module\n",
        "import pandas as pd\n",
        "from matplotlib import pyplot as plt\n",
        "\n",
        "# Load the data\n",
        "data = pd.read_csv(\"weeklysales.csv\")\n",
        "\n",
        "plt.plot(data['Day'],data['DailyAverageSale'])"
      ],
      "metadata": {
        "colab": {
          "base_uri": "https://localhost:8080/",
          "height": 283
        },
        "id": "C7RTlUGjANak",
        "outputId": "2a680c35-da77-4276-82e3-79669434d3e4"
      },
      "execution_count": 75,
      "outputs": [
        {
          "output_type": "execute_result",
          "data": {
            "text/plain": [
              "[<matplotlib.lines.Line2D at 0x7fcb1b970e10>]"
            ]
          },
          "metadata": {},
          "execution_count": 75
        },
        {
          "output_type": "display_data",
          "data": {
            "text/plain": [
              "<Figure size 432x288 with 1 Axes>"
            ],
            "image/png": "[encoded data removed]"
          },
          "metadata": {
            "needs_background": "light"
          }
        }
      ]
    },
    {
      "cell_type": "markdown",
      "source": [
        "## **Conclusion**\n",
        "As we can look at the above of the section. Because every employee's daily sales are not fixed, no matter what method we use to calculate,we only can enter each number when calculating daily total sales. When we calculate average sales, we can use formula. As we can see from the chart above, the average daily sales are highly volatile, the sales are lower on Monday and Friday, and higher on Tuesday to Thursday."
      ],
      "metadata": {
        "id": "Q_kDqOyUGPAR"
      }
    },
    {
      "cell_type": "markdown",
      "source": [
        "# **Reference**\n",
        "\n",
        "Lab exercise for Introduction to Programming course.\n",
        "\n",
        "Class recording.\n",
        "\n",
        "https://zhuanlan.zhihu.com/p/109245779"
      ],
      "metadata": {
        "id": "AtswKn5sDGQc"
      }
    }
  ]
}