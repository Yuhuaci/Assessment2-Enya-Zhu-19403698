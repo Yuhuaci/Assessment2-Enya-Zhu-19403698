{
  "cells": [
    {
      "cell_type": "markdown",
      "metadata": {
        "id": "view-in-github",
        "colab_type": "text"
      },
      "source": [
        "<a href=\"https://colab.research.google.com/github/Yuhuaci/Assessment2-Enya-Zhu-19403698/blob/main/ELP_2022_02_Answer_Booklet_2.ipynb\" target=\"_parent\"><img src=\"https://colab.research.google.com/assets/colab-badge.svg\" alt=\"Open In Colab\"/></a>"
      ]
    },
    {
      "cell_type": "markdown",
      "metadata": {
        "id": "Rqo9OOSAuCdn"
      },
      "source": [
        "## Question 1 [40 Marks]:\n",
        "There is much more to creating a program than writing code. In ISYS5002, we followed a six-step problem solving methodology cycle. Demonstrate the first four steps of the problem solving methodology cycle by **designing** an application that calculates the net amount payable for items purchased at a store. The store offers a `10%` discount if the total purchase value is more than or equal to `$200` and additional `15%` on purchase amounts exceeding $1000. The app should input price of each item purchased, calculate total purchase values, the amount of discount applicable and the net amount payable by the customer and display the results. \n",
        "\n"
      ],
      "id": "Rqo9OOSAuCdn"
    },
    {
      "cell_type": "markdown",
      "source": [
        "**ANSWER: Program Design**   <*Add code/text cells as needed*>\n",
        "\n",
        "\n",
        "\n",
        "\n",
        "\n",
        "\n",
        "\n",
        "\n",
        "\n"
      ],
      "metadata": {
        "id": "FvQHYQujSSFk"
      },
      "id": "FvQHYQujSSFk"
    },
    {
      "cell_type": "markdown",
      "source": [
        "## **1. State the problem clearly**\n",
        "\n",
        "We need designing an application that calculates the net amount payable for items purchased at a store. \n",
        "\n",
        "## **2. Describe the input and output information**\n",
        "\n",
        "Input --> price of each item purchased, discount for different purchase amount\n",
        "\n",
        "\n",
        "Processing --> discount\n",
        "\n",
        "Output --> total purchase values, the amount of discount applicable, the net amount payable by the customer\n",
        "\n",
        "## **3. Work the problem by hand**\n",
        "\n",
        "Let's assume:\n",
        "\n",
        "> Price of item 1 = $50\n",
        "\n",
        "> Price of item 2 = $375\n",
        "\n",
        "> If total price < 200, no discount\n",
        "\n",
        "> 200 < total price < 1000, 10% discount\n",
        "\n",
        "> total price > 1000, 15% discount\n",
        "\n",
        "Manually, by hand we compute\n",
        "\n",
        "> total purchase values = price of item 1 + price of item 2 = 425\n",
        "\n",
        "> 200 < 425 < 1000, 10% discount\n",
        "\n",
        "> the net amount payable by the customer = 425 * (1-10%) = 382.5\n",
        "\n",
        "## **4. Develop an algorithm / pseudocode**\n",
        "\n",
        "\n",
        "```\n",
        "Get the item(s) price\n",
        "Calculate display the total purchase values\n",
        "Get the amount of discount applicable\n",
        "Display the net amount payable by the customer\n",
        "```\n",
        "\n"
      ],
      "metadata": {
        "id": "mv8rm8xoEZpc"
      },
      "id": "mv8rm8xoEZpc"
    },
    {
      "cell_type": "markdown",
      "source": [
        "**Implement** your design. Your implementation should follow the best practices and demonstrate the last two steps of the methodology. This requirement includes input validation and testing. \n",
        "\n",
        "Save the Colab Notebook to your private GitHub repository.\n"
      ],
      "metadata": {
        "id": "ZGPychQzSAxo"
      },
      "id": "ZGPychQzSAxo"
    },
    {
      "cell_type": "markdown",
      "source": [
        "**ANSWER: Program Implementation**  <*Add code/text cells as needed*>"
      ],
      "metadata": {
        "id": "H1VSUx_uSlam"
      },
      "id": "H1VSUx_uSlam"
    },
    {
      "cell_type": "code",
      "source": [
        "#Input item price#\n",
        "item_price=[]\n",
        "while True:\n",
        "  try:\n",
        "    price=int(input(\"The item price is:\"))\n",
        "  except:\n",
        "    print('stop')\n",
        "    break"
      ],
      "metadata": {
        "colab": {
          "base_uri": "https://localhost:8080/"
        },
        "id": "kbgOea0BMghS",
        "outputId": "fdcf139a-2a26-470e-e074-aac0cd98ad3d"
      },
      "id": "kbgOea0BMghS",
      "execution_count": 242,
      "outputs": [
        {
          "output_type": "stream",
          "name": "stdout",
          "text": [
            "The item price is:34\n",
            "The item price is:134\n",
            "The item price is:98\n",
            "The item price is:57\n",
            "The item price is:39\n",
            "The item price is:stop\n",
            "stop\n"
          ]
        }
      ]
    },
    {
      "cell_type": "markdown",
      "source": [
        "I tried to calculate the total directly after entering the data, but it didn't work properly."
      ],
      "metadata": {
        "id": "JlQ5QJIRPg9e"
      },
      "id": "JlQ5QJIRPg9e"
    },
    {
      "cell_type": "code",
      "source": [
        "total_item_price=34+134+98+57+39 #calculate total item price#\n",
        "print(total_item_price)"
      ],
      "metadata": {
        "colab": {
          "base_uri": "https://localhost:8080/"
        },
        "id": "Wis4l3HrM21r",
        "outputId": "8f34006b-a94f-4464-ad4f-3d7ed4670715"
      },
      "id": "Wis4l3HrM21r",
      "execution_count": 253,
      "outputs": [
        {
          "output_type": "stream",
          "name": "stdout",
          "text": [
            "362\n"
          ]
        }
      ]
    },
    {
      "cell_type": "code",
      "source": [
        "total_purchase_values=total_item_price\n",
        "#Processing# #Determine the total price range#\n",
        "if total_purchase_values < 200:\n",
        "  discount = 1-0\n",
        "elif 200<= total_purchase_values < 1000:\n",
        "  discount = 1-0.1\n",
        "else:\n",
        "  discount = 1-0.15\n",
        "\n",
        "net_amount_payable = total_purchase_values * discount\n",
        "\n",
        "#Output#\n",
        "print(\"Total purchase values is:\", total_purchase_values)\n",
        "print(\"The amount of discount applicable is:\", discount)\n",
        "print(\"The net amount payable by the customer is:\", net_amount_payable)"
      ],
      "metadata": {
        "id": "hQonnn4JSu1N",
        "colab": {
          "base_uri": "https://localhost:8080/"
        },
        "outputId": "46bd7c99-9aa5-4974-fe6f-fccbf900312a"
      },
      "execution_count": 246,
      "outputs": [
        {
          "output_type": "stream",
          "name": "stdout",
          "text": [
            "Total purchase values is: 362\n",
            "The amount of discount applicable is: 0.9\n",
            "The net amount payable by the customer is: 325.8\n"
          ]
        }
      ],
      "id": "hQonnn4JSu1N"
    },
    {
      "cell_type": "code",
      "source": [
        "while True:\n",
        "  try:\n",
        "    net_amount_payable = float(input(\"The net amount payable by the customer is: \"))\n",
        "    print(net_amount_payable)\n",
        "    break\n",
        "  except ValueError:\n",
        "    print(\"Invalid input for net amountpayable. Please Enter a numeric value\")\n",
        "  except:\n",
        "    print(\"Error in input\\n\")\n",
        "\n",
        "print(\"The net amount payable by the customer is\", net_amount_payable)"
      ],
      "metadata": {
        "colab": {
          "base_uri": "https://localhost:8080/"
        },
        "id": "-vUeGwpfQQV5",
        "outputId": "f231c603-b8be-41f1-b803-1d1ec27a3167"
      },
      "id": "-vUeGwpfQQV5",
      "execution_count": 249,
      "outputs": [
        {
          "output_type": "stream",
          "name": "stdout",
          "text": [
            "The net amount payable by the customer is: se\n",
            "Invalid input for net amountpayable. Please Enter a numeric value\n",
            "The net amount payable by the customer is: 0/0\n",
            "Invalid input for net amountpayable. Please Enter a numeric value\n",
            "The net amount payable by the customer is: 325.8\n",
            "325.8\n",
            "The net amount payable by the customer is 325.8\n"
          ]
        }
      ]
    },
    {
      "cell_type": "code",
      "source": [
        "#Input item price#\n",
        "item_price=[]\n",
        "while True:\n",
        "  try:\n",
        "    price=int(input(\"The item price is:\"))\n",
        "  except:\n",
        "    print('stop')\n",
        "    break"
      ],
      "metadata": {
        "colab": {
          "base_uri": "https://localhost:8080/"
        },
        "id": "luCLsG6xS3Gf",
        "outputId": "0778d994-aab0-46e7-8fa3-13e288934a7b"
      },
      "id": "luCLsG6xS3Gf",
      "execution_count": 254,
      "outputs": [
        {
          "output_type": "stream",
          "name": "stdout",
          "text": [
            "The item price is:234\n",
            "The item price is:98\n",
            "The item price is:99\n",
            "The item price is:489\n",
            "The item price is:378\n",
            "The item price is:34\n",
            "The item price is:stop\n",
            "stop\n"
          ]
        }
      ]
    },
    {
      "cell_type": "code",
      "source": [
        "total_item_price=24+98+99+489+378+34 #calculate total item price#\n",
        "print(total_item_price)"
      ],
      "metadata": {
        "colab": {
          "base_uri": "https://localhost:8080/"
        },
        "id": "iLVI2sakTF7D",
        "outputId": "17831cb1-8a51-48c5-d001-f183f19325e4"
      },
      "id": "iLVI2sakTF7D",
      "execution_count": 255,
      "outputs": [
        {
          "output_type": "stream",
          "name": "stdout",
          "text": [
            "1122\n"
          ]
        }
      ]
    },
    {
      "cell_type": "code",
      "source": [
        "total_purchase_values=total_item_price\n",
        "#Processing# #Determine the total price range#\n",
        "if total_purchase_values < 200:\n",
        "  discount = 1-0\n",
        "elif 200<= total_purchase_values < 1000:\n",
        "  discount = 1-0.1\n",
        "else:\n",
        "  discount = 1-0.15\n",
        "\n",
        "net_amount_payable = total_purchase_values * discount\n",
        "\n",
        "#Output#\n",
        "print(\"Total purchase values is:\", total_purchase_values)\n",
        "print(\"The amount of discount applicable is:\", discount)\n",
        "print(\"The net amount payable by the customer is:\", net_amount_payable)"
      ],
      "metadata": {
        "colab": {
          "base_uri": "https://localhost:8080/"
        },
        "id": "AgbVEXAnTRpG",
        "outputId": "61eb4a20-4bef-4cac-f26f-994d965f2adb"
      },
      "id": "AgbVEXAnTRpG",
      "execution_count": 259,
      "outputs": [
        {
          "output_type": "stream",
          "name": "stdout",
          "text": [
            "Total purchase values is: 1122\n",
            "The amount of discount applicable is: 0.85\n",
            "The net amount payable by the customer is: 953.6999999999999\n"
          ]
        }
      ]
    },
    {
      "cell_type": "markdown",
      "id": "75e13390",
      "metadata": {
        "id": "75e13390"
      },
      "source": [
        "## Question 2 [20 Marks]:\n",
        "\n",
        "The `elp_cheer` function repeats the given word the specified number of times and then attaches exclamation marks at the end of the words.\n",
        "\n",
        "The code is not working. It contains errors and does not follow industry best practices. **Fix the mistakes, apply PEP 8 coding best practices and include appropriate comments to explain the code**. Save the Notebook to your GitHub repository."
      ]
    },
    {
      "cell_type": "code",
      "execution_count": 184,
      "id": "3abab3b5",
      "metadata": {
        "id": "3abab3b5"
      },
      "outputs": [],
      "source": [
        "def elp_cheer(\n",
        "    word, number, case): #creating a function about elp cheer#\n",
        "  '''#Docstrings are used to describe a function.#\n",
        "  Sample output\n",
        "  >>> elp_cheer('hurray', 3, True)\n",
        "  'HURRAY HURRAY HURRAY !!!'\n",
        "  >>> elp_cheer('Hurray', 4, False)\n",
        "  'Hurray Hurray Hurray Hurray !!!'\n",
        "  >>> elp_cheer('hurray', 5, False)\n",
        "  'hurray hurray hurray hurray hurray !!!'\n",
        "  '''\n",
        "\n",
        "  cheerword = ((word + \" \") \n",
        "          * number \n",
        "          * case) #Calculate cheerword#\n",
        "      \n",
        "  if case is TRUE: #check if it is true#\n",
        "    cheerwordnew = cheerword + '!!!' #if it is true, cheerwordnew is cheerword+!!! #\n",
        "  else:        #it is false#\n",
        "    cheerwordnew = cheerword.Upper() #it is false, cheerwordnew is cheerword upper#\n",
        "\n",
        "  return cheerwordnew #return the final information to the caller#\n",
        "\n"
      ]
    },
    {
      "cell_type": "markdown",
      "id": "351973d9",
      "metadata": {
        "id": "351973d9"
      },
      "source": [
        "## Question 3 [30 Marks] :\n",
        "Write a program that reads in the `elp_sales.csv` and compute and display the maximum, minimum and average profit for countries in **Australia and Oceania and Asia regions**. For each country in the Australia and Oceania and Asia region, plot their total profit. \n",
        "\n",
        "*(Hint: read the CSV into a Pandas dataframe, create a new dataframe for the region, and use the new dataframe for the calculations and bar chart. Compute the total profit before computing the max, min and average)*. \n",
        "\n",
        "Save your answer booklet to your GitHub repository.\n"
      ]
    },
    {
      "cell_type": "code",
      "source": [
        "import pandas as pd #import pandas module#\n",
        "\n",
        "df=pd.read_csv('/elp_sales_data.csv') #read 'elp_sales_data.csv' data#\n",
        "df['Total Profit'] = df['Total Revenue'] - df['Total Cost'] #calculate total profit#\n",
        "print(df) #output data#"
      ],
      "metadata": {
        "id": "gnj4A5FTpjLt",
        "colab": {
          "base_uri": "https://localhost:8080/"
        },
        "outputId": "9ae621a6-3cf1-4776-b5db-4efe6d2f5553"
      },
      "id": "gnj4A5FTpjLt",
      "execution_count": 185,
      "outputs": [
        {
          "output_type": "stream",
          "name": "stdout",
          "text": [
            "                               Region                Country        Item Type  \\\n",
            "0               Australia and Oceania                 Tuvalu        Baby Food   \n",
            "1   Central America and the Caribbean                Grenada           Cereal   \n",
            "2                              Europe                 Russia  Office Supplies   \n",
            "3                  Sub-Saharan Africa  Sao Tome and Principe           Fruits   \n",
            "4                  Sub-Saharan Africa                 Rwanda  Office Supplies   \n",
            "..                                ...                    ...              ...   \n",
            "95                 Sub-Saharan Africa                   Mali          Clothes   \n",
            "96                               Asia               Malaysia           Fruits   \n",
            "97                 Sub-Saharan Africa           Sierra Leone       Vegetables   \n",
            "98                      North America                 Mexico    Personal Care   \n",
            "99                 Sub-Saharan Africa             Mozambique        Household   \n",
            "\n",
            "   Sales Channel Order Priority  Order Date   Order ID   Ship Date  \\\n",
            "0        Offline              H   5/28/2010  669165933   6/27/2010   \n",
            "1         Online              C   8/22/2012  963881480   9/15/2012   \n",
            "2        Offline              L   5/02/2014  341417157   5/08/2014   \n",
            "3         Online              C   6/20/2014  514321792   7/05/2014   \n",
            "4        Offline              L   2/01/2013  115456712   2/06/2013   \n",
            "..           ...            ...         ...        ...         ...   \n",
            "95        Online              M   7/26/2011  512878119   9/03/2011   \n",
            "96       Offline              L  11/11/2011  810711038  12/28/2011   \n",
            "97       Offline              C   6/01/2016  728815257   6/29/2016   \n",
            "98       Offline              M   7/30/2015  559427106   8/08/2015   \n",
            "99       Offline              L   2/10/2012  665095412   2/15/2012   \n",
            "\n",
            "    Units Sold  Unit Price  Unit Cost  Total Revenue  Total Cost  Total Profit  \n",
            "0         9925      255.28     159.42     2533654.00  1582243.50     951410.50  \n",
            "1         2804      205.70     117.11      576782.80   328376.44     248406.36  \n",
            "2         1779      651.21     524.96     1158502.59   933903.84     224598.75  \n",
            "3         8102        9.33       6.92       75591.66    56065.84      19525.82  \n",
            "4         5062      651.21     524.96     3296425.02  2657347.52     639077.50  \n",
            "..         ...         ...        ...            ...         ...           ...  \n",
            "95         888      109.28      35.84       97040.64    31825.92      65214.72  \n",
            "96        6267        9.33       6.92       58471.11    43367.64      15103.47  \n",
            "97        1485      154.06      90.93      228779.10   135031.05      93748.05  \n",
            "98        5767       81.73      56.67      471336.91   326815.89     144521.02  \n",
            "99        5367      668.27     502.54     3586605.09  2697132.18     889472.91  \n",
            "\n",
            "[100 rows x 14 columns]\n"
          ]
        }
      ]
    },
    {
      "cell_type": "code",
      "source": [
        "df1=df.loc[df['Region']=='Australia and Oceania',['Total Revenue','Total Cost','Total Profit','Country']] #Extract the data(Total Revenue...) of Australia and Oceania#\n",
        "print(df1) #output data#\n",
        "df1.plot.bar(x='Country',y='Total Profit', legend=False, figsize=(8,8)) #Make a bar chart#"
      ],
      "metadata": {
        "colab": {
          "base_uri": "https://localhost:8080/",
          "height": 886
        },
        "id": "xPCE1srH0w4V",
        "outputId": "d4a5d217-3b47-4ef2-92c4-30ff592b91f4"
      },
      "id": "xPCE1srH0w4V",
      "execution_count": 186,
      "outputs": [
        {
          "output_type": "stream",
          "name": "stdout",
          "text": [
            "    Total Revenue  Total Cost  Total Profit                         Country\n",
            "0      2533654.00  1582243.50     951410.50                          Tuvalu\n",
            "5       759202.72   474115.08     285087.64                 Solomon Islands\n",
            "19     2492526.12  2154588.52     337937.60                      East Timor\n",
            "23       20404.71    15134.04       5270.67                     New Zealand\n",
            "26       50363.34    37354.16      13009.18                        Kiribati\n",
            "32     1904138.04  1534983.04     369155.00                       Australia\n",
            "56     1082418.40   354995.20     727423.20                            Fiji\n",
            "60      140287.40    79869.02      60418.38                       Australia\n",
            "76      445033.55   298158.41     146875.14  Federated States of Micronesia\n",
            "79     4220728.80  2542187.82    1678540.98                          Samoa \n",
            "91      445508.05   298476.31     147031.74                       Australia\n"
          ]
        },
        {
          "output_type": "execute_result",
          "data": {
            "text/plain": [
              "<matplotlib.axes._subplots.AxesSubplot at 0x7efd1bff0350>"
            ]
          },
          "metadata": {},
          "execution_count": 186
        },
        {
          "output_type": "display_data",
          "data": {
            "text/plain": [
              "<Figure size 576x576 with 1 Axes>"
            ],
            "image/png": "[encoded data removed]"
          },
          "metadata": {
            "needs_background": "light"
          }
        }
      ]
    },
    {
      "cell_type": "markdown",
      "source": [
        "As we can see in table, the maximum total profit is Samoa's 1678540,98, the minimum total profit is New Zealand's 5270,67."
      ],
      "metadata": {
        "id": "dhL7hQAUWxgO"
      },
      "id": "dhL7hQAUWxgO"
    },
    {
      "cell_type": "code",
      "source": [
        "df2=df.loc[df['Region']=='Asia',['Total Revenue','Total Cost','Total Profit','Country']] #Extract the Asia's data#\n",
        "print(df2) #output data#\n",
        "df2.plot.bar(x='Country',y='Total Profit', legend=False, figsize=(8,8)) #Make a bar chart#"
      ],
      "metadata": {
        "colab": {
          "base_uri": "https://localhost:8080/",
          "height": 799
        },
        "id": "3mvFF8_P8OAS",
        "outputId": "30aac390-f3ae-40ea-b951-de89aed4add1"
      },
      "id": "3mvFF8_P8OAS",
      "execution_count": 273,
      "outputs": [
        {
          "output_type": "stream",
          "name": "stdout",
          "text": [
            "    Total Revenue  Total Cost  Total Profit       Country\n",
            "10       19103.44    11275.32       7828.12    Kyrgyzstan\n",
            "12      902980.64   296145.92     606834.72    Bangladesh\n",
            "14      400558.73   277739.67     122819.06      Mongolia\n",
            "16     3039414.40  1830670.16    1208744.24     Sri Lanka\n",
            "18     2559474.10  1924728.20     634745.90  Turkmenistan\n",
            "33     5513227.50  4145955.00    1367272.50       Myanmar\n",
            "38     4368316.68  3521431.68     846885.00        Brunei\n",
            "44      648030.40   212531.20     435499.20       Myanmar\n",
            "70     3262562.10  2630049.60     632512.50  Turkmenistan\n",
            "77      574951.92   339350.76     235601.16          Laos\n",
            "96       58471.11    43367.64      15103.47      Malaysia\n"
          ]
        },
        {
          "output_type": "execute_result",
          "data": {
            "text/plain": [
              "<matplotlib.axes._subplots.AxesSubplot at 0x7efd1bcf22d0>"
            ]
          },
          "metadata": {},
          "execution_count": 273
        },
        {
          "output_type": "display_data",
          "data": {
            "text/plain": [
              "<Figure size 576x576 with 1 Axes>"
            ],
            "image/png": "[encoded data removed]"
          },
          "metadata": {
            "needs_background": "light"
          }
        }
      ]
    },
    {
      "cell_type": "markdown",
      "source": [
        "As we can see in table, the maximum total profit is Myanmar's 1367272.50, the minimum total profit is Kyrgyzstan's 7828.12."
      ],
      "metadata": {
        "id": "e3zcKYJFXcJc"
      },
      "id": "e3zcKYJFXcJc"
    },
    {
      "cell_type": "markdown",
      "source": [
        "## Question 4 [10 Marks]\n",
        "Write a report reflecting on the lectures, workshops, and assessments for this unit, and discuss whether we achieved the unit's learning outcomes. As an appendix to the report, please include a copy of the body of all your weekly journals in a Word document. Submit the word document via the Turnitin link on Blackboard.\n",
        "\n",
        "** DO NOT ANSWER HERE ** Your answer to Question 4 is to be completed in a Word Document."
      ],
      "metadata": {
        "id": "2EXbKLCuH5iH"
      },
      "id": "2EXbKLCuH5iH"
    },
    {
      "cell_type": "markdown",
      "source": [
        "### **Resource**\n",
        "\n",
        "https://blog.csdn.net/yoonhee/article/details/76168253 \n",
        "\n",
        "https://peps.python.org/pep-0008/ "
      ],
      "metadata": {
        "id": "GEcKARo19Hov"
      },
      "id": "GEcKARo19Hov"
    }
  ],
  "metadata": {
    "kernelspec": {
      "display_name": "Python 3 (ipykernel)",
      "language": "python",
      "name": "python3"
    },
    "language_info": {
      "codemirror_mode": {
        "name": "ipython",
        "version": 3
      },
      "file_extension": ".py",
      "mimetype": "text/x-python",
      "name": "python",
      "nbconvert_exporter": "python",
      "pygments_lexer": "ipython3",
      "version": "3.9.7"
    },
    "colab": {
      "provenance": [],
      "collapsed_sections": [],
      "include_colab_link": true
    }
  },
  "nbformat": 4,
  "nbformat_minor": 5
}